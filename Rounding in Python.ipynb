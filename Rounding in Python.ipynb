{
 "cells": [
  {
   "cell_type": "code",
   "execution_count": 1,
   "metadata": {},
   "outputs": [
    {
     "name": "stdout",
     "output_type": "stream",
     "text": [
      "The number is: -5.0   Rounded: -5\n",
      "The number is: -4.75   Rounded: -5\n",
      "The number is: -4.5   Rounded: -4\n",
      "The number is: -4.25   Rounded: -4\n",
      "The number is: -4.0   Rounded: -4\n",
      "The number is: -3.75   Rounded: -4\n",
      "The number is: -3.5   Rounded: -4\n",
      "The number is: -3.25   Rounded: -3\n",
      "The number is: -3.0   Rounded: -3\n",
      "The number is: -2.75   Rounded: -3\n",
      "The number is: -2.5   Rounded: -2\n",
      "The number is: -2.25   Rounded: -2\n",
      "The number is: -2.0   Rounded: -2\n",
      "The number is: -1.75   Rounded: -2\n",
      "The number is: -1.5   Rounded: -2\n",
      "The number is: -1.25   Rounded: -1\n",
      "The number is: -1.0   Rounded: -1\n",
      "The number is: -0.75   Rounded: -1\n",
      "The number is: -0.5   Rounded: 0\n",
      "The number is: -0.25   Rounded: 0\n",
      "The number is: 0.0   Rounded: 0\n",
      "The number is: 0.25   Rounded: 0\n",
      "The number is: 0.5   Rounded: 0\n",
      "The number is: 0.75   Rounded: 1\n",
      "The number is: 1.0   Rounded: 1\n",
      "The number is: 1.25   Rounded: 1\n",
      "The number is: 1.5   Rounded: 2\n",
      "The number is: 1.75   Rounded: 2\n",
      "The number is: 2.0   Rounded: 2\n",
      "The number is: 2.25   Rounded: 2\n",
      "The number is: 2.5   Rounded: 2\n",
      "The number is: 2.75   Rounded: 3\n",
      "The number is: 3.0   Rounded: 3\n",
      "The number is: 3.25   Rounded: 3\n",
      "The number is: 3.5   Rounded: 4\n",
      "The number is: 3.75   Rounded: 4\n",
      "The number is: 4.0   Rounded: 4\n",
      "The number is: 4.25   Rounded: 4\n",
      "The number is: 4.5   Rounded: 4\n",
      "The number is: 4.75   Rounded: 5\n",
      "The number is: 5.0   Rounded: 5\n"
     ]
    }
   ],
   "source": [
    "\"\"\"Default Python Rounding\"\"\"\n",
    "\n",
    "# Starting number\n",
    "n = -5.0\n",
    "\n",
    "# Print the rounding of numbers from -5 to 5 at 0.25 interval\n",
    "while n <= 5:\n",
    "    print(\"The number is:\", n, \"  Rounded:\", round(n))\n",
    "    n += 0.25"
   ]
  },
  {
   "cell_type": "code",
   "execution_count": 2,
   "metadata": {},
   "outputs": [
    {
     "name": "stdout",
     "output_type": "stream",
     "text": [
      "The number is: -5.0   Rounded: -5\n",
      "The number is: -4.75   Rounded: -5\n",
      "The number is: -4.5   Rounded: -5\n",
      "The number is: -4.25   Rounded: -4\n",
      "The number is: -4.0   Rounded: -4\n",
      "The number is: -3.75   Rounded: -4\n",
      "The number is: -3.5   Rounded: -4\n",
      "The number is: -3.25   Rounded: -3\n",
      "The number is: -3.0   Rounded: -3\n",
      "The number is: -2.75   Rounded: -3\n",
      "The number is: -2.5   Rounded: -3\n",
      "The number is: -2.25   Rounded: -2\n",
      "The number is: -2.0   Rounded: -2\n",
      "The number is: -1.75   Rounded: -2\n",
      "The number is: -1.5   Rounded: -2\n",
      "The number is: -1.25   Rounded: -1\n",
      "The number is: -1.0   Rounded: -1\n",
      "The number is: -0.75   Rounded: -1\n",
      "The number is: -0.5   Rounded: -1\n",
      "The number is: -0.25   Rounded: -0\n",
      "The number is: 0.0   Rounded: 0\n",
      "The number is: 0.25   Rounded: 0\n",
      "The number is: 0.5   Rounded: 1\n",
      "The number is: 0.75   Rounded: 1\n",
      "The number is: 1.0   Rounded: 1\n",
      "The number is: 1.25   Rounded: 1\n",
      "The number is: 1.5   Rounded: 2\n",
      "The number is: 1.75   Rounded: 2\n",
      "The number is: 2.0   Rounded: 2\n",
      "The number is: 2.25   Rounded: 2\n",
      "The number is: 2.5   Rounded: 3\n",
      "The number is: 2.75   Rounded: 3\n",
      "The number is: 3.0   Rounded: 3\n",
      "The number is: 3.25   Rounded: 3\n",
      "The number is: 3.5   Rounded: 4\n",
      "The number is: 3.75   Rounded: 4\n",
      "The number is: 4.0   Rounded: 4\n",
      "The number is: 4.25   Rounded: 4\n",
      "The number is: 4.5   Rounded: 5\n",
      "The number is: 4.75   Rounded: 5\n",
      "The number is: 5.0   Rounded: 5\n"
     ]
    }
   ],
   "source": [
    "\"\"\"Traditional Rounding\"\"\"\n",
    "\n",
    "import decimal\n",
    "from decimal import Decimal\n",
    "\n",
    "# Change the default rounding method from round to half even to round half up\n",
    "decimal.getcontext().rounding = decimal.ROUND_HALF_UP\n",
    "\n",
    "# Reset n\n",
    "n = -5.0\n",
    "\n",
    "# Print the rounding of numbers from -5 to 5 at 0.25 interval\n",
    "while n <= 5:\n",
    "    print(\"The number is:\", n, \"  Rounded:\", Decimal(n).quantize(0))\n",
    "    n += 0.25\n",
    "\n",
    "print(\"Notice that rounding -0.25 to 0 returns -0. -0 in Excel automatically returns 0\")"
   ]
  }
 ],
 "metadata": {
  "kernelspec": {
   "display_name": "Python 3",
   "language": "python",
   "name": "python3"
  },
  "language_info": {
   "codemirror_mode": {
    "name": "ipython",
    "version": 3
   },
   "file_extension": ".py",
   "mimetype": "text/x-python",
   "name": "python",
   "nbconvert_exporter": "python",
   "pygments_lexer": "ipython3",
   "version": "3.7.3"
  }
 },
 "nbformat": 4,
 "nbformat_minor": 2
}
